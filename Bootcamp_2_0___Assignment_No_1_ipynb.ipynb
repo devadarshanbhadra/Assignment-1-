{
  "nbformat": 4,
  "nbformat_minor": 0,
  "metadata": {
    "colab": {
      "provenance": []
    },
    "kernelspec": {
      "name": "python3",
      "display_name": "Python 3"
    },
    "language_info": {
      "name": "python"
    }
  },
  "cells": [
    {
      "cell_type": "markdown",
      "source": [
        "# 1.Find out all the types of error that we have encountered in our lecture and why? Also include the examples."
      ],
      "metadata": {
        "id": "-LucasUHGcWA"
      }
    },
    {
      "cell_type": "markdown",
      "source": [
        "### i.For case sentivity "
      ],
      "metadata": {
        "id": "a8mlSR6zJYyT"
      }
    },
    {
      "cell_type": "code",
      "source": [
        "TEN = 10\n",
        "ten = 10\n",
        "print(Ten)"
      ],
      "metadata": {
        "colab": {
          "base_uri": "https://localhost:8080/",
          "height": 200
        },
        "id": "GDwrDGZxJ-L2",
        "outputId": "3024b438-ad78-41d6-cb3c-633bfaf9cf0a"
      },
      "execution_count": 1,
      "outputs": [
        {
          "output_type": "error",
          "ename": "NameError",
          "evalue": "ignored",
          "traceback": [
            "\u001b[0;31m---------------------------------------------------------------------------\u001b[0m",
            "\u001b[0;31mNameError\u001b[0m                                 Traceback (most recent call last)",
            "\u001b[0;32m<ipython-input-1-abc2e2fc364d>\u001b[0m in \u001b[0;36m<module>\u001b[0;34m\u001b[0m\n\u001b[1;32m      1\u001b[0m \u001b[0mTEN\u001b[0m \u001b[0;34m=\u001b[0m \u001b[0;36m10\u001b[0m\u001b[0;34m\u001b[0m\u001b[0;34m\u001b[0m\u001b[0m\n\u001b[1;32m      2\u001b[0m \u001b[0mten\u001b[0m \u001b[0;34m=\u001b[0m \u001b[0;36m10\u001b[0m\u001b[0;34m\u001b[0m\u001b[0;34m\u001b[0m\u001b[0m\n\u001b[0;32m----> 3\u001b[0;31m \u001b[0mprint\u001b[0m\u001b[0;34m(\u001b[0m\u001b[0mTen\u001b[0m\u001b[0;34m)\u001b[0m\u001b[0;34m\u001b[0m\u001b[0;34m\u001b[0m\u001b[0m\n\u001b[0m",
            "\u001b[0;31mNameError\u001b[0m: name 'Ten' is not defined"
          ]
        }
      ]
    },
    {
      "cell_type": "markdown",
      "source": [
        "Example:Here in this example which word python wants that only printed so it takes and below example is for case sentivity"
      ],
      "metadata": {
        "id": "us1btgZeKS-R"
      }
    },
    {
      "cell_type": "code",
      "source": [
        "# python takes the word caes sentively \n",
        "# For example\n",
        "Myself= (\"BHADRA\")\n",
        "myself=(\"bhadra\")\n",
        "print(Myself)"
      ],
      "metadata": {
        "colab": {
          "base_uri": "https://localhost:8080/"
        },
        "id": "XjKYQcIlKXsW",
        "outputId": "05b86182-fdbc-40f9-a15e-27fbcc49a010"
      },
      "execution_count": 2,
      "outputs": [
        {
          "output_type": "stream",
          "name": "stdout",
          "text": [
            "BHADRA\n"
          ]
        }
      ]
    },
    {
      "cell_type": "markdown",
      "source": [
        "### ii We should not use reserved words as variable names"
      ],
      "metadata": {
        "id": "IRhPnY8yJzw4"
      }
    },
    {
      "cell_type": "code",
      "source": [
        "print(\"hi there\")\n",
        "print=\"hi there\" #as a variable\n",
        "type(print)\n",
        "print(print)"
      ],
      "metadata": {
        "colab": {
          "base_uri": "https://localhost:8080/",
          "height": 217
        },
        "id": "88R75ZTlJ1vx",
        "outputId": "4082b7eb-4020-44f6-da63-bb1af218c8ed"
      },
      "execution_count": 3,
      "outputs": [
        {
          "output_type": "stream",
          "name": "stdout",
          "text": [
            "hi there\n"
          ]
        },
        {
          "output_type": "error",
          "ename": "TypeError",
          "evalue": "ignored",
          "traceback": [
            "\u001b[0;31m---------------------------------------------------------------------------\u001b[0m",
            "\u001b[0;31mTypeError\u001b[0m                                 Traceback (most recent call last)",
            "\u001b[0;32m<ipython-input-3-6c8aff542d54>\u001b[0m in \u001b[0;36m<module>\u001b[0;34m\u001b[0m\n\u001b[1;32m      2\u001b[0m \u001b[0mprint\u001b[0m\u001b[0;34m=\u001b[0m\u001b[0;34m\"hi there\"\u001b[0m \u001b[0;31m#as a variable\u001b[0m\u001b[0;34m\u001b[0m\u001b[0;34m\u001b[0m\u001b[0m\n\u001b[1;32m      3\u001b[0m \u001b[0mtype\u001b[0m\u001b[0;34m(\u001b[0m\u001b[0mprint\u001b[0m\u001b[0;34m)\u001b[0m\u001b[0;34m\u001b[0m\u001b[0;34m\u001b[0m\u001b[0m\n\u001b[0;32m----> 4\u001b[0;31m \u001b[0mprint\u001b[0m\u001b[0;34m(\u001b[0m\u001b[0mprint\u001b[0m\u001b[0;34m)\u001b[0m\u001b[0;34m\u001b[0m\u001b[0;34m\u001b[0m\u001b[0m\n\u001b[0m",
            "\u001b[0;31mTypeError\u001b[0m: 'str' object is not callable"
          ]
        }
      ]
    },
    {
      "cell_type": "code",
      "source": [
        "# delete the variable print\n",
        "del print"
      ],
      "metadata": {
        "id": "7HM8DnOINjEx"
      },
      "execution_count": 4,
      "outputs": []
    },
    {
      "cell_type": "markdown",
      "source": [
        "### iii When ever we use user input we should mention data type becaus by default it will take as stringe"
      ],
      "metadata": {
        "id": "VfjnnZdiPmQV"
      }
    },
    {
      "cell_type": "code",
      "source": [
        "# calcualte the age of the user\n",
        "\n",
        "name = input(\"Name: \") # always gives you string values\n",
        "place = input(\"place: \")\n",
        "year_of_birth = input(\"year_of_birth: \")\n",
        "\n",
        "age = 2022 - year_of_birth\n",
        "\n",
        "\n",
        "print(f\"\"\"\n",
        "My name is: {name}\n",
        "I live at: {place}\n",
        "{name} is of age: {age}\n",
        "\"\"\")"
      ],
      "metadata": {
        "colab": {
          "base_uri": "https://localhost:8080/",
          "height": 287
        },
        "id": "wGTgME98QQ-v",
        "outputId": "03dff997-5e6b-4e99-aeaf-206ee09efb20"
      },
      "execution_count": 5,
      "outputs": [
        {
          "name": "stdout",
          "output_type": "stream",
          "text": [
            "Name: devadarshan bhadra\n",
            "place: banagalore\n",
            "year_of_birth: 1996\n"
          ]
        },
        {
          "output_type": "error",
          "ename": "TypeError",
          "evalue": "ignored",
          "traceback": [
            "\u001b[0;31m---------------------------------------------------------------------------\u001b[0m",
            "\u001b[0;31mTypeError\u001b[0m                                 Traceback (most recent call last)",
            "\u001b[0;32m<ipython-input-5-d5c52132ed07>\u001b[0m in \u001b[0;36m<module>\u001b[0;34m\u001b[0m\n\u001b[1;32m      5\u001b[0m \u001b[0myear_of_birth\u001b[0m \u001b[0;34m=\u001b[0m \u001b[0minput\u001b[0m\u001b[0;34m(\u001b[0m\u001b[0;34m\"year_of_birth: \"\u001b[0m\u001b[0;34m)\u001b[0m\u001b[0;34m\u001b[0m\u001b[0;34m\u001b[0m\u001b[0m\n\u001b[1;32m      6\u001b[0m \u001b[0;34m\u001b[0m\u001b[0m\n\u001b[0;32m----> 7\u001b[0;31m \u001b[0mage\u001b[0m \u001b[0;34m=\u001b[0m \u001b[0;36m2022\u001b[0m \u001b[0;34m-\u001b[0m \u001b[0myear_of_birth\u001b[0m\u001b[0;34m\u001b[0m\u001b[0;34m\u001b[0m\u001b[0m\n\u001b[0m\u001b[1;32m      8\u001b[0m \u001b[0;34m\u001b[0m\u001b[0m\n\u001b[1;32m      9\u001b[0m \u001b[0;34m\u001b[0m\u001b[0m\n",
            "\u001b[0;31mTypeError\u001b[0m: unsupported operand type(s) for -: 'int' and 'str'"
          ]
        }
      ]
    },
    {
      "cell_type": "markdown",
      "source": [
        "### iv. If we mentioned the datatype of input variable, then we need to remember, while putting the value, we need to put exact mentioned datatype's value"
      ],
      "metadata": {
        "id": "wSjFmLKWRd0c"
      }
    },
    {
      "cell_type": "code",
      "source": [
        "A=float(input(\"enter value of A:\"))\n",
        "B=int(input(\"enter value of B:\"))  # 10.5 is float number and we mentioned it integer, and should convert into integer\n",
        "print(f\"sum of A and B is : {A+B}\")"
      ],
      "metadata": {
        "id": "kJvBnjAtQStT"
      },
      "execution_count": null,
      "outputs": []
    },
    {
      "cell_type": "markdown",
      "source": [
        "### v we cant change empty stringe into a integer"
      ],
      "metadata": {
        "id": "2Q0BY8HLVxVv"
      }
    },
    {
      "cell_type": "code",
      "source": [
        "# empty string to int\n",
        "A = \"\"\n",
        "print(f\"data type before: {type(A)}, value of A: {A}\")\n",
        "A = int(A)\n",
        "print(f\"data type after: {type(A)}, value of A: {A}\")"
      ],
      "metadata": {
        "id": "juOGUzPlSRKy"
      },
      "execution_count": null,
      "outputs": []
    },
    {
      "cell_type": "markdown",
      "source": [
        "# 2. Take input A and B and print their sum, mul, div, square of the numbers"
      ],
      "metadata": {
        "id": "iyVhGcAYWnnH"
      }
    },
    {
      "cell_type": "code",
      "source": [
        "# taking the user inputs\n",
        "a = int(input(\"Enter 1st number: \"))\n",
        "b = int(input(\"Enter 2nd number: \"))\n",
        "\n",
        "# mathematical equations\n",
        "sum = a + b\n",
        "mul = a * b\n",
        "div = a / b\n",
        "square = a ** 2\n",
        "\n",
        "\n",
        "# printing the results\n",
        "print(f\"sum of {a} & {b} is: {sum}\")\n",
        "print(f\"The 'mul' of {a} & {b} is: {mul}\")\n",
        "print(f\"The 'div' of {a} & {b} is: {div}\")\n",
        "print(f\"The 'square' of {a} & {b} is: {square}\")"
      ],
      "metadata": {
        "colab": {
          "base_uri": "https://localhost:8080/"
        },
        "id": "pD2W1f-fJFOB",
        "outputId": "29f23517-e237-461b-fb5d-34d051c4dbe1"
      },
      "execution_count": 6,
      "outputs": [
        {
          "output_type": "stream",
          "name": "stdout",
          "text": [
            "Enter 1st number: 100\n",
            "Enter 2nd number: 200\n",
            "sum of 100 & 200 is: 300\n",
            "The 'mul' of 100 & 200 is: 20000\n",
            "The 'div' of 100 & 200 is: 0.5\n",
            "The 'square' of 100 & 200 is: 10000\n"
          ]
        }
      ]
    },
    {
      "cell_type": "markdown",
      "source": [
        "# 3.  How many reserve keywords are there in python and why we should not use them as a variable name.52"
      ],
      "metadata": {
        "id": "_XxONt8tL6Jz"
      }
    },
    {
      "cell_type": "markdown",
      "source": [
        "https://www.tutorialspoint.com/What-are-Reserved-Keywords-in-Python\n",
        "\n",
        "-  There are 33 Reserved words in python.\n",
        "-  Reserved words are particular words that python will take as input and it may cause an error in our coding so it should not be used.Suitable output will not come by using reserved words."
      ],
      "metadata": {
        "id": "mx2EpLr7MFry"
      }
    },
    {
      "cell_type": "markdown",
      "source": [
        "# 4. Create email ids with the user inputs. in the following format\n",
        " - lastname.firstname@gmail.com"
      ],
      "metadata": {
        "id": "0wL7Yu7LOH3T"
      }
    },
    {
      "cell_type": "code",
      "source": [
        "last_name = (\"devadarshan\")\n",
        "first_name = (\"bhadra\")\n",
        "print(f\"{last_name}.{first_name}@.gmail.com \")\n"
      ],
      "metadata": {
        "colab": {
          "base_uri": "https://localhost:8080/"
        },
        "id": "Td3pFd5hJHKq",
        "outputId": "5a575bf2-5b35-496c-d095-c90f3cdc87ef"
      },
      "execution_count": 7,
      "outputs": [
        {
          "output_type": "stream",
          "name": "stdout",
          "text": [
            "devadarshan.bhadra@.gmail.com \n"
          ]
        }
      ]
    },
    {
      "cell_type": "markdown",
      "source": [
        "# 5. Try to print the following lines - \n",
        "  - Hi I'm Sunny\n",
        "  - My address is 22\\3 \n",
        "  - I earn 20$ daily."
      ],
      "metadata": {
        "id": "65cPArzPPphv"
      }
    },
    {
      "cell_type": "code",
      "source": [
        "print(f\"\"\"\n",
        ". Hi i'm sunny\n",
        ". My address is 22\\3\n",
        ". I earn 20$ daily\n",
        "\"\"\")"
      ],
      "metadata": {
        "colab": {
          "base_uri": "https://localhost:8080/"
        },
        "id": "aV3wKgVmPGay",
        "outputId": "f740e37e-4af6-4bad-be3d-f7fef6a75426"
      },
      "execution_count": 8,
      "outputs": [
        {
          "output_type": "stream",
          "name": "stdout",
          "text": [
            "\n",
            ". Hi i'm sunny\n",
            ". My address is 22\u0003\n",
            ". I earn 20$ daily\n",
            "\n"
          ]
        }
      ]
    },
    {
      "cell_type": "markdown",
      "source": [
        "# 6. Take user input (name, address, date of birth etc) to fill a form for your college and print their email IDs"
      ],
      "metadata": {
        "id": "YHdRIdMSQc0v"
      }
    },
    {
      "cell_type": "code",
      "source": [
        "# taking user inputs\n",
        "first_name = input(\"enter your first_name: \")\n",
        "Last_name = input(\"enter your last_name: \")\n",
        "door_no = input(\"enter your door_no: \")\n",
        "city = input(\"enter your city: \")\n",
        "state = input(\"enter your state: \")\n",
        "DOB = input(\"enter your dob:\")\n",
        "\n",
        "pin = input(\"enter your pin: \")\n",
        "\n",
        "print(f\"student_full_name is:{first_name}{last_name} \")\n",
        "\n",
        "# User email id is\n",
        "print(f\"{first_name}{last_name}@gmail.com\")\n",
        "\n",
        "# print output\n",
        "\n",
        "print(f\"\"\"\n",
        "door_number is: {door_no}\n",
        "city: {city}\n",
        "state: {state}\n",
        "pin: {pin}\n",
        "\"\"\")"
      ],
      "metadata": {
        "colab": {
          "base_uri": "https://localhost:8080/"
        },
        "id": "ahVuzokyvgVI",
        "outputId": "dfadf103-a512-4bdf-adb8-ba04563c6211"
      },
      "execution_count": 17,
      "outputs": [
        {
          "output_type": "stream",
          "name": "stdout",
          "text": [
            "enter your first_name: deva\n",
            "enter your last_name: darshan\n",
            "enter your door_no: 58-11-108\n",
            "enter your city: vizag\n",
            "enter your state: AP\n",
            "enter your dob:22-09-1996\n",
            "enter your pin: 530009\n",
            "student_full_name is:deva NM,.. \n",
            "deva NM,..@gmail.com\n",
            "\n",
            "door_number is: 58-11-108\n",
            "city: vizag\n",
            "state: AP\n",
            "pin: 530009\n",
            "\n"
          ]
        }
      ]
    },
    {
      "cell_type": "markdown",
      "source": [
        "7. Convert the following -\n",
        " * \"22.4\" into integer\n",
        " * \"22\" into complex no."
      ],
      "metadata": {
        "id": "5K2zqWbt0rGO"
      }
    },
    {
      "cell_type": "markdown",
      "source": [
        "## float to integer"
      ],
      "metadata": {
        "id": "A89r3VFl0yl9"
      }
    },
    {
      "cell_type": "code",
      "source": [
        "a = float(22.4)\n",
        "print(f\"data type before:{type(a)}, value of a {a}\")\n",
        "a = int(22)\n",
        "print(f\"data type after: {type(a)}, value of a {a}\")\n"
      ],
      "metadata": {
        "colab": {
          "base_uri": "https://localhost:8080/"
        },
        "id": "iECbKvXEy5Qf",
        "outputId": "0b125784-e3ee-4cf6-cdb3-2a06d5a40186"
      },
      "execution_count": 18,
      "outputs": [
        {
          "output_type": "stream",
          "name": "stdout",
          "text": [
            "data type before:<class 'float'>, value of a 22.4\n",
            "data type after: <class 'int'>, value of a 22\n"
          ]
        }
      ]
    },
    {
      "cell_type": "code",
      "source": [
        "a = int(22)\n",
        "print(f\"data type before:{type(a)}, value of a {a}\")\n",
        "a = complex(a)\n",
        "print(f\"data type after: {type(a)}, value of a {a}\")"
      ],
      "metadata": {
        "colab": {
          "base_uri": "https://localhost:8080/"
        },
        "id": "elG0CPfr2GX0",
        "outputId": "01bcd585-928f-4574-9088-7eab2a41d885"
      },
      "execution_count": 19,
      "outputs": [
        {
          "output_type": "stream",
          "name": "stdout",
          "text": [
            "data type before:<class 'int'>, value of a 22\n",
            "data type after: <class 'complex'>, value of a (22+0j)\n"
          ]
        }
      ]
    },
    {
      "cell_type": "code",
      "source": [],
      "metadata": {
        "id": "p3w1hDUR2yUf"
      },
      "execution_count": null,
      "outputs": []
    }
  ]
}